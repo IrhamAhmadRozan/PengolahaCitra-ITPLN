{
 "cells": [
  {
   "cell_type": "markdown",
   "id": "bd56be9e",
   "metadata": {},
   "source": [
    "## Import Library"
   ]
  },
  {
   "cell_type": "code",
   "execution_count": null,
   "id": "ea332017",
   "metadata": {},
   "outputs": [],
   "source": [
    "import cv2 as cv\n",
    "from matplotlib import pyplot as plt"
   ]
  },
  {
   "cell_type": "markdown",
   "id": "6380b6b3",
   "metadata": {},
   "source": [
    "## Read Image"
   ]
  },
  {
   "cell_type": "code",
   "execution_count": null,
   "id": "cbfc1af3",
   "metadata": {},
   "outputs": [],
   "source": [
    "img = cv.imread('testing.jpeg')"
   ]
  },
  {
   "cell_type": "markdown",
   "id": "5dfdeb3b",
   "metadata": {},
   "source": [
    "## Show Image with opencv function"
   ]
  },
  {
   "cell_type": "code",
   "execution_count": null,
   "id": "417e2273",
   "metadata": {},
   "outputs": [],
   "source": [
    "# For Macbook\n",
    "cv.imshow('Image', img)\n",
    "cv.waitKey()\n",
    "\n",
    "cv.waitKey(1)\n",
    "cv.destroyAllWindows()\n",
    "cv.waitKey(1)"
   ]
  },
  {
   "cell_type": "code",
   "execution_count": null,
   "id": "a9326c64",
   "metadata": {},
   "outputs": [],
   "source": [
    "print(img.shape)"
   ]
  },
  {
   "cell_type": "markdown",
   "id": "9bd60018",
   "metadata": {},
   "source": [
    "## RGB to Grayscale with opencv function"
   ]
  },
  {
   "cell_type": "code",
   "execution_count": null,
   "id": "47e2e709",
   "metadata": {},
   "outputs": [],
   "source": [
    "gray = cv.cvtColor(img, cv.COLOR_BGR2GRAY)"
   ]
  },
  {
   "cell_type": "code",
   "execution_count": null,
   "id": "d9c20687",
   "metadata": {},
   "outputs": [],
   "source": [
    "# For Macbook\n",
    "cv.imshow('Image Gray', gray)\n",
    "cv.waitKey()\n",
    "\n",
    "cv.waitKey(1)\n",
    "cv.destroyAllWindows()\n",
    "cv.waitKey(1)"
   ]
  },
  {
   "cell_type": "code",
   "execution_count": null,
   "id": "9d55af0b",
   "metadata": {},
   "outputs": [],
   "source": [
    "gray.shape"
   ]
  },
  {
   "cell_type": "markdown",
   "id": "7abb6468",
   "metadata": {},
   "source": [
    "## Grayscale to Binary with opencv function"
   ]
  },
  {
   "cell_type": "code",
   "execution_count": null,
   "id": "56ddad4b",
   "metadata": {},
   "outputs": [],
   "source": [
    "(thresh, binary) = cv.threshold(gray, 128, 255, cv.THRESH_BINARY | cv.THRESH_OTSU)"
   ]
  },
  {
   "cell_type": "code",
   "execution_count": null,
   "id": "e686ddfe",
   "metadata": {},
   "outputs": [],
   "source": [
    "# For Macbook\n",
    "cv.imshow('Image Gray', binary)\n",
    "cv.waitKey()\n",
    "\n",
    "cv.waitKey(1)\n",
    "cv.destroyAllWindows()\n",
    "cv.waitKey(1)"
   ]
  },
  {
   "cell_type": "code",
   "execution_count": null,
   "id": "d5dbbb52",
   "metadata": {},
   "outputs": [],
   "source": [
    "binary.shape"
   ]
  },
  {
   "cell_type": "markdown",
   "id": "da0abd45",
   "metadata": {},
   "source": [
    "## Save Image as file"
   ]
  },
  {
   "cell_type": "code",
   "execution_count": null,
   "id": "77187cdb",
   "metadata": {},
   "outputs": [],
   "source": [
    "cv.imwrite(\"testing-hasil-binary.png\", binary)"
   ]
  },
  {
   "cell_type": "code",
   "execution_count": null,
   "id": "1a619cf4",
   "metadata": {},
   "outputs": [],
   "source": []
  }
 ],
 "metadata": {
  "kernelspec": {
   "display_name": "Python 3 (ipykernel)",
   "language": "python",
   "name": "python3"
  },
  "language_info": {
   "codemirror_mode": {
    "name": "ipython",
    "version": 3
   },
   "file_extension": ".py",
   "mimetype": "text/x-python",
   "name": "python",
   "nbconvert_exporter": "python",
   "pygments_lexer": "ipython3",
   "version": "3.10.5"
  }
 },
 "nbformat": 4,
 "nbformat_minor": 5
}
